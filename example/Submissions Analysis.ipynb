{
 "metadata": {
  "name": "Submissions Analysis"
 },
 "nbformat": 3,
 "nbformat_minor": 0,
 "worksheets": [
  {
   "cells": [
    {
     "cell_type": "markdown",
     "metadata": {},
     "source": "Assigment B: Python code similarity\n===================================\n\nFor the course ADM I have created a library of tools to calculate and estimate the similarity between 2 pieces of python code.\nI named the module \"Symilar\" to emphesize it Python origin as well as its primairy field of study.\n\nThis Notebook will show some of its possibilities and explain the origin of the algorithems involved.\nThe most resent codebase of the project Symilar is freely available from \"http://admserver.frii.nl\" in the \"Public projects\" section. You can store it in your python path or at any other place and include this place in your python path like this:\n"
    },
    {
     "cell_type": "code",
     "collapsed": false,
     "input": "import sys\nsys.path.insert(0,'/home/user/workspace/symilar/src/nl/boose/symilar/')",
     "language": "python",
     "metadata": {},
     "outputs": [],
     "prompt_number": 1
    },
    {
     "cell_type": "markdown",
     "metadata": {},
     "source": "Differ the humanly readable diff\n--------------------------------\nI will be using diflib's unified_diff to indicate the difference between 2 piece of sourcecode"
    },
    {
     "cell_type": "code",
     "collapsed": false,
     "input": "def differ(expected, actual):\n    import difflib\n    expected=expected.splitlines(1)\n    actual=actual.splitlines(1)\n    diff=difflib.unified_diff(expected, actual)\n    return ''.join(diff)",
     "language": "python",
     "metadata": {},
     "outputs": [],
     "prompt_number": 2
    },
    {
     "cell_type": "markdown",
     "metadata": {},
     "source": "Now I will read CSV files with solutions provided to the autograder. The file \"x.csv\" is provided in the \"example\" directory of the symilar source. You will have to change the path in the next cell to get it to work.\n\nAl student e-mail adresses are replaced by \"Student_101\" and upwards. \"x\" will be a matrix containing the following fields:\n- Assignment title\n- task number\n- student name\n- submission date\n- submitted code\n- feedback\nand some other fields that are not important for this task."
    },
    {
     "cell_type": "code",
     "collapsed": false,
     "input": "import csv\nreader=csv.reader(open(\"/home/user/adm/x.csv\",\"rb\"),delimiter=',')\nx = list(reader)\n\nimport numpy as np\nimport os\nimport subprocess",
     "language": "python",
     "metadata": {},
     "outputs": [],
     "prompt_number": 3
    },
    {
     "cell_type": "markdown",
     "metadata": {},
     "source": "Lets inspect the important characteristics of the matrix x. "
    },
    {
     "cell_type": "code",
     "collapsed": false,
     "input": "first_summision = x[1]\n#number_of_submissions \nprint \"# submissions: \", len(x)\nprint \"Assignment of submission 1: \", x[1][0]\nprint \"Task of submission 1: \", x[1][1]\n#Code_of_first_submission \nprint \"first code: \\n=========================================\\n\", x[1][4]\nprint \"=========================================\"\n\n",
     "language": "python",
     "metadata": {},
     "outputs": [
      {
       "output_type": "stream",
       "stream": "stdout",
       "text": "# submissions:  147\nAssignment of submission 1:  Assignment 0:: Hashing\nTask of submission 1:  1\nfirst code: \n=========================================\nimport numpy\ndef analyse_collisions(K, N, L):\n    arr = [0]*N\n    for x in xrange(K):\n        random_number = numpy.random.random_integers(N)\n        arr[random_number-1] = arr[random_number-1] + 1\n        \n    counts = [0] * (L + 1)\n    \n    for x in xrange(L+1):\n        counts[x] = arr.count(x)\n        \n    return counts\n=========================================\n"
      }
     ],
     "prompt_number": 4
    },
    {
     "cell_type": "markdown",
     "metadata": {},
     "source": "Trace one sumission\n-------------------\nWe will trace one submission, nr 96 from its original sourcecode into the winnowing string that we can use for comparing. This process is based on the paper that comes with the \"Moss\" system. The \"Measure of source code similarity\" system is provided by standford university and anno 2014 still active and supported.\n\nLet first look at the provided sourcecode:\n"
    },
    {
     "cell_type": "code",
     "collapsed": false,
     "input": "print x[96][4]",
     "language": "python",
     "metadata": {},
     "outputs": [
      {
       "output_type": "stream",
       "stream": "stdout",
       "text": "import numpy as np\n\ndef sketch(M, k):\n    numrows = len(M)\n    numcols = len(M[0])\n    dirs = np.random.randn(len(M),k)\n    result=np.array([])\n    for i in range(k):\n        result = np.concatenate((result, np.sign(np.sum(np.transpose(np.tile (dirs[:,i],(numcols,1))) * M, axis=0))))\n    return np.reshape(result,(k,numcols))\n\n"
      }
     ],
     "prompt_number": 5
    },
    {
     "cell_type": "markdown",
     "metadata": {},
     "source": "Step 1: generalise names, remove comments, generalise spacing and indenting. This is called a \"Working Copy\" of the code because it will still compile and run. Al aliases are renamed back to their original names (anti aliasing) and all subnames of imported modules will not be translated."
    },
    {
     "cell_type": "code",
     "collapsed": false,
     "input": "from Code import Code\nimport Scope\nScope.clearScopes()\nmyProgram = Code(x[96][4])\nprint myProgram.getWorkingCopy()",
     "language": "python",
     "metadata": {},
     "outputs": [
      {
       "output_type": "stream",
       "stream": "stdout",
       "text": "import numpy as numpy\ndef meth00000(name00000,name00001):\n    name00002=len(name00000)\n    name00003=len(name00000[0])\n    name00004=numpy.random.randn(len(name00000),name00001)\n    name00005=numpy.array([])\n    for name00006 in range(name00001):\n        name00005=numpy.concatenate((name00005,numpy.sign(numpy.sum(numpy.transpose(numpy.tile(name00004[:,name00006],(name00003,1)))*name00000,axis=0))))\n    return numpy.reshape(name00005,(name00001,name00003))\n"
      }
     ],
     "prompt_number": 6
    },
    {
     "cell_type": "markdown",
     "metadata": {},
     "source": "Using a basematrix image of the code, it will get converted to a version that will contain hash values for all names, symbols, indentatationdeltas and literals. You can provide salt to influence the hash function, but remember to use the same salt if you want to compare 2 pieces of code with each other :-)\n\nInspecting the following code you will notice that each line starts with the original line number, followed by a hash value indicating the delta of indentation. After that you will find 1 hashcode per name, constant or symbol (operators, brackets and quotes included). If we compare line number 1 to its original source we can assume that \"2cd5\" is the hash of the name \"numpy\"."
    },
    {
     "cell_type": "code",
     "collapsed": false,
     "input": "print myProgram.getHashCopy(salt='salt')",
     "language": "python",
     "metadata": {},
     "outputs": [
      {
       "output_type": "stream",
       "stream": "stdout",
       "text": "l0000001 9e59 eae8 2cd5 6e26 2cd5\nl0000003 9e59 67e3 ed5b 44d2 1d5b 9628 911f 6d5a 8b50\nl0000004 3bb9 339f 03d5 0e6f 44d2 1d5b 6d5a\nl0000005 9e59 6473 03d5 0e6f 44d2 1d5b f3d4 46a4 5171 6d5a\nl0000006 9e59 04b3 03d5 2cd5 ff11 98e8 ff11 1820 44d2 0e6f 44d2 1d5b 6d5a 9628 911f 6d5a\nl0000007 9e59 3cc1 03d5 2cd5 ff11 ea88 44d2 f3d4 5171 6d5a\nl0000008 9e59 5719 87bd 1fda 1ef7 44d2 911f 6d5a 8b50\nl0000009 3bb9 3cc1 03d5 2cd5 ff11 60f9 44d2 44d2 3cc1 9628 2cd5 ff11 cecd 44d2 2cd5 ff11 506e 44d2 2cd5 ff11 76f5 44d2 2cd5 ff11 ee88 44d2 04b3 f3d4 8b50 9628 87bd 5171 9628 44d2 6473 9628 a3d2 6d5a 6d5a 6d5a 2264 1d5b 9628 6a5c 03d5 46a4 6d5a 6d5a 6d5a 6d5a\nl0000010 665e 32ac 2cd5 ff11 613c 44d2 3cc1 9628 44d2 911f 9628 6473 6d5a 6d5a\n\n"
      }
     ],
     "prompt_number": 7
    },
    {
     "cell_type": "markdown",
     "metadata": {},
     "source": "Winnow algorithm:\n=================\nThe getWinnow method looks at all the the hashes in a sequense without the linenumbers. A window of (\"guarantee\" - \"noise\" + 1) size moves with speed \"noise\" over the hashcodes and finds all lowest, most right hashcodes and saves those togetter with the corresponding linenumbers."
    },
    {
     "cell_type": "code",
     "collapsed": false,
     "input": "myProgram.getWinnow(guarantee = 12, noise = 4, salt='salt')",
     "language": "python",
     "metadata": {},
     "outputs": [
      {
       "metadata": {},
       "output_type": "pyout",
       "prompt_number": 8,
       "text": "[['2cd5', 1],\n ['1d5b', 3],\n ['03d5', 4],\n ['03d5', 5],\n ['04b3', 6],\n ['03d5', 6],\n ['0e6f', 6],\n ['03d5', 7],\n ['1fda', 8],\n ['1ef7', 8],\n ['03d5', 9],\n ['2cd5', 9],\n ['04b3', 9],\n ['44d2', 9],\n ['1d5b', 9],\n ['03d5', 9],\n ['2cd5', 10],\n ['3cc1', 10]]"
      }
     ],
     "prompt_number": 8
    },
    {
     "cell_type": "markdown",
     "metadata": {},
     "source": "If we decrease the guarantee or increase the noise the window becomes smaller, this means that more hashvalues will be the smalles within a window so the size of the winnow will increase. Increasing the noise however will also demp the number of hashvalues in the winnow for the number of windows that will be inspected decreases.\nBy increaasing the guarantee, and keeping the noise level, the algoritm gets less sensitive for order of statements and within statements for instance \"a \\* b\" becomes indifferend from \"b \\* a\". However this is also true for \"a / b\" and \"b / a\" although they are functionaly not similar."
    },
    {
     "cell_type": "code",
     "collapsed": false,
     "input": "print myProgram.getWinnow(guarantee = 12, noise = 6, salt='salt')\nprint '=== g = 12, n = 6 ======================================='\nprint myProgram.getWinnow(guarantee = 8, noise = 2, salt='salt')\nprint '=== g = 8, n = 2 ======================================='\nprint myProgram.getWinnow(guarantee = 12, noise = 10, salt='salt')\nprint '=== g = 12, n = 10 ======================================='\nprint myProgram.getWinnow(guarantee = 4, noise = 1, salt='salt')\nprint '=== g = 4, n = 1 ======================================='",
     "language": "python",
     "metadata": {},
     "outputs": [
      {
       "output_type": "stream",
       "stream": "stdout",
       "text": "[['2cd5', 1], ['1d5b', 3], ['03d5', 4], ['03d5', 5], ['0e6f', 5], ['03d5', 6], ['0e6f', 6], ['1d5b', 6], ['03d5', 7], ['1fda', 8], ['1ef7', 8], ['03d5', 9], ['2cd5', 9], ['04b3', 9], ['44d2', 9], ['1d5b', 9], ['03d5', 9], ['2cd5', 10], ['3cc1', 10]]\n=== g = 12, n = 6 =======================================\n[['2cd5', 1], ['1d5b', 3], ['03d5', 4], ['03d5', 5], ['0e6f', 5], ['04b3', 6], ['03d5', 6], ['0e6f', 6], ['1d5b', 6], ['03d5', 7], ['2cd5', 7], ['44d2', 7], ['1fda', 8], ['1ef7', 8], ['03d5', 9], ['2cd5', 9], ['04b3', 9], ['44d2', 9], ['2264', 9], ['1d5b', 9], ['03d5', 9], ['2cd5', 10], ['3cc1', 10]]\n=== g = 8, n = 2 =======================================\n[['2cd5', 1], ['6d5a', 3], ['6473', 5], ['04b3', 6], ['0e6f', 6], ['2cd5', 7], ['1ef7', 8], ['44d2', 9], ['2cd5', 9], ['04b3', 9], ['6473', 9], ['03d5', 9], ['3cc1', 10]]\n=== g = 12, n = 10 =======================================\n[['2cd5', 1], ['44d2', 3], ['1d5b', 3], ['6d5a', 3], ['3bb9', 4], ['339f', 4], ['03d5', 4], ['0e6f', 4], ['1d5b', 4], ['03d5', 5], ['0e6f', 5], ['1d5b', 5], ['46a4', 5], ['04b3', 6], ['03d5', 6], ['2cd5', 6], ['1820', 6], ['0e6f', 6], ['1d5b', 6], ['6d5a', 6], ['3cc1', 7], ['03d5', 7], ['2cd5', 7], ['44d2', 7], ['5171', 7], ['5719', 8], ['1fda', 8], ['1ef7', 8], ['44d2', 8], ['3bb9', 9], ['03d5', 9], ['2cd5', 9], ['44d2', 9], ['3cc1', 9], ['2cd5', 9], ['04b3', 9], ['87bd', 9], ['5171', 9], ['44d2', 9], ['6473', 9], ['6d5a', 9], ['2264', 9], ['1d5b', 9], ['03d5', 9], ['46a4', 9], ['6d5a', 9], ['665e', 10], ['32ac', 10], ['2cd5', 10], ['3cc1', 10], ['44d2', 10], ['6473', 10]]\n=== g = 4, n = 1 =======================================\n"
      }
     ],
     "prompt_number": 9
    },
    {
     "cell_type": "markdown",
     "metadata": {},
     "source": "From hereon we will be looking at only the hash codes in the winnow. This part can be retrieved with the getWinnowStr method."
    },
    {
     "cell_type": "code",
     "collapsed": false,
     "input": "print myProgram.winnow2str(guarantee = 12, noise = 6, salt='salt')",
     "language": "python",
     "metadata": {},
     "outputs": [
      {
       "output_type": "stream",
       "stream": "stdout",
       "text": "2cd5 1d5b 03d5 03d5 0e6f 03d5 0e6f 1d5b 03d5 1fda 1ef7 03d5 2cd5 04b3 44d2 1d5b 03d5 2cd5 3cc1 \n"
      }
     ],
     "prompt_number": 10
    },
    {
     "cell_type": "markdown",
     "metadata": {},
     "source": "Scopes:\n=======\nPrograms define scopes. These scopes, and the names that are declared within them can be inspected by the Scope module. The method \"printScopes\" will only print the dictionaries of names that will be translated to go from source to working copy. Keywords and names of modules and names within modules will not get translated. For every method and class a seperate scope is introduced. For every function call, list or tuple operator (, [ or { a seperate subscope is introduced. Subscopes share the namespace of their parent scope but can have additional names if these names are defined within the parentheses."
    },
    {
     "cell_type": "code",
     "collapsed": false,
     "input": "Scope.printScopes()",
     "language": "python",
     "metadata": {},
     "outputs": [
      {
       "output_type": "stream",
       "stream": "stdout",
       "text": "{'np': 'numpy', 'sketch': 'meth00000'}\n{'dirs': 'name00004', 'i': 'name00006', 'k': 'name00001', 'M': 'name00000', 'numrows': 'name00002', 'result': 'name00005', 'numcols': 'name00003'}\n{}\n{}\n{}\n{}\n{}\n{}\n{}\n{}\n{}\n{}\n{}\n{}\n{}\n{}\n{}\n{}\n"
      }
     ],
     "prompt_number": 12
    },
    {
     "cell_type": "markdown",
     "metadata": {},
     "source": "Jsim:\n-----\nOur friend Jsim from assignment 1. The shingle method is altered to support shingle-ing with bigger chunc sizes f.i. look at chunks of 5 caracters instead of 1. The \"longest\" method returns the longest part of string 1 that can be found in string 2."
    },
    {
     "cell_type": "code",
     "collapsed": false,
     "input": "def jsim(S1,S2):\n    S1 = set(S1)\n    S2 = set(S2)\n    try:\n        return len(S1.intersection(S2)) * 1.0 / len(S1.union(S2))\n    except:\n        return 0\n\ndef shingle(text, lenght=4, chunksize=5):\n    toreturn = []\n    for i in range((len(text) / chunksize) - lenght):\n        toreturn.append(text[i*chunksize:(i+lenght)*chunksize])\n    return toreturn\n\ndef longest(strfrom, strin, chunksize=5):\n    bigchunk=''\n    chunknum = len(strfrom) / chunksize\n    for i in range(chunknum):\n        for j in range(i+1,chunknum + 1):\n            if strin.find(strfrom[chunksize*i:chunksize*j]) >=0 and (j-i) * chunksize > len(bigchunk):\n                bigchunk = strfrom[chunksize*i:chunksize*j]\n    return bigchunk",
     "language": "python",
     "metadata": {},
     "outputs": [],
     "prompt_number": 13
    },
    {
     "cell_type": "markdown",
     "metadata": {},
     "source": "Example of the \"longest\" method call"
    },
    {
     "cell_type": "code",
     "collapsed": false,
     "input": "longest('1234 hyst gdys oiuy hsts kwnw','gdys oiuy hsts iyhg ') ",
     "language": "python",
     "metadata": {},
     "outputs": [
      {
       "metadata": {},
       "output_type": "pyout",
       "prompt_number": 14,
       "text": "'gdys oiuy hsts '"
      }
     ],
     "prompt_number": 14
    },
    {
     "cell_type": "markdown",
     "metadata": {},
     "source": "Comparison matrix:\n==================\nHere is some \"magic\". Given the 147 submissions this code will create and fill 3 matrixes from submission i to submission j. Within the matrixes, where j > i it will store:\n- The jsim similarity of the original source codes.\n- The jsim similarity after converting the sourcecodes to working copies.\n- The longest substring within the winnowstrings from i to j divided by the length of i.\n"
    },
    {
     "cell_type": "code",
     "collapsed": false,
     "input": "'''This steps takes about 10 seconds with 147 code snipplets.'''\nfrom time import time\n\nmatrixorg = np.zeros((len(x),len(x)))\nmatrixstripped = np.zeros((len(x),len(x)))\nmatrixwinnow = np.zeros((len(x),len(x)))\n\n                \n\nunstripped = {}\nstripped = {}\nwinnowed = {}\n\nsalt = str(np.random.randint(100,999))\n\n\nt = time()\n\nfor i in range(len(x)):\n    myProgram = Code(x[i][4])\n    newCode = myProgram.getWorkingCopy()\n    winnow = myProgram.winnow2str(12, noise = 4, salt = salt)\n    \n    stripped[i] = newCode\n    winnowed[i] = winnow\n    unstripped[i] = x[i][4]\n    Scope.clearScopes()\n\nprint 'For converting en winnowing: ', time() - t\nt = time()\n    \nfor i in range(len(x)):\n    for j in range(i+1,len(x)):\n        matrixstripped[i][j] = jsim(shingle(stripped[i], chunksize=5), shingle(stripped[j], chunksize=5))        \n        matrixorg[i][j] = jsim(shingle(unstripped[i], chunksize=1),shingle(unstripped[j], chunksize=1))  \n\n        longnum = len(longest(winnowed[j], winnowed[i]))\n        if len(winnowed[i]) != 0:\n            matrixwinnow[i][j] = float(longnum) / float(len(winnowed[i]))\n        \nprint 'For jsim and calculating longest winnow: ', time() - t\n\n",
     "language": "python",
     "metadata": {},
     "outputs": [
      {
       "output_type": "stream",
       "stream": "stdout",
       "text": "For converting en winnowing:  1.65841913223\nFor jsim and calculating longest winnow: "
      },
      {
       "output_type": "stream",
       "stream": "stdout",
       "text": " 3.57578396797\n"
      }
     ],
     "prompt_number": 18
    },
    {
     "cell_type": "markdown",
     "metadata": {},
     "source": "Analyse the differences:\n========================\nNext cell will create 3 lists of kandidates to inspect according to the 3 mentioned methods. After this cell you will find cells that will help you in analysing the corresponding sourcecodes."
    },
    {
     "cell_type": "code",
     "collapsed": false,
     "input": "def ltab(value,lenght,char=' '):\n    return char + (char * lenght + str(value))[-lenght:]\n\ndef rtab(value,lenght,char=' '):\n    return char + ( str(value) + char * lenght)[0:lenght]\n\nlbound = 0.9\nspace = '-'\nheaders = ltab('from',5,space) + space + ltab('to',5,space) + space + ltab('tf',4,space) + space\nheaders += ltab('tt',3,space) + space + rtab('translated',10,space) + space\nheaders += rtab('winnow',10,space) + space + rtab('original',10,space) + space\n\nprint\nprint 'solutions with a jackard simularity before translation over ' + str(lbound) \nprint headers\nprint\n\na = np.where( matrixorg > lbound)\nfor i in range(len(a[0])):\n    if x[a[0][i]][2] != x[a[1][i]][2]:\n        if int(x[a[0][i]][1]) in [1,2,5,6]:\n            print ltab(a[0][i],5), ltab(a[1][i],5), ltab(x[a[0][i]][1],4), ltab(x[a[1][i]][1],3), rtab(matrixstripped[a[0][i]][a[1][i]],10), rtab(matrixwinnow[a[0][i]][a[1][i]],10), rtab(matrixorg[a[0][i]][a[1][i]],10) \n\nprint\nprint 'solutions with a jackard simularity after translation over ' + str(lbound) \nprint headers\nprint\n\na = np.where( matrixstripped > lbound)\nfor i in range(len(a[0])):\n    #if this is the same task\n    if x[a[0][i]][2] != x[a[1][i]][2]:\n        #Don't show tasks without real question\n        if int(x[a[0][i]][1]) in [1,2,5,6]:\n            print ltab(a[0][i],5), ltab(a[1][i],5), ltab(x[a[0][i]][1],4), ltab(x[a[1][i]][1],3), rtab(matrixstripped[a[0][i]][a[1][i]],10), rtab(matrixwinnow[a[0][i]][a[1][i]],10), rtab(matrixorg[a[0][i]][a[1][i]],10) \n\nprint\nprint 'solutions with a winnow simularity after translation over ' + str(lbound) \nprint headers\nprint\n\na = np.where( matrixwinnow > lbound)\nfor i in range(len(a[0])):\n    #if this is the same task\n    if x[a[0][i]][2] != x[a[1][i]][2]:\n        #Don't show tasks without real question\n        if int(x[a[0][i]][1]) in [1,2,5,6] and x[a[0][i]][1] == x[a[1][i]][1]:\n            print ltab(a[0][i],5), ltab(a[1][i],5), ltab(x[a[0][i]][1],4), ltab(x[a[1][i]][1],3), rtab(matrixstripped[a[0][i]][a[1][i]],10), rtab(matrixwinnow[a[0][i]][a[1][i]],10), rtab(matrixorg[a[0][i]][a[1][i]],10) ",
     "language": "python",
     "metadata": {},
     "outputs": [
      {
       "output_type": "stream",
       "stream": "stdout",
       "text": "\nsolutions with a jackard simularity before translation over 0.9\n--from-----to----tf---tt--translated--winnow------original---\n\n    47     55     1    1  1.0         1.0         1.0       \n    60     68     2    2  1.0         1.0         0.99127906\n    62     69     2    2  1.0         1.0         0.99178082\n    64     67     2    2  0.85906040  0.30434782  0.95402298\n    97    105     5    5  1.0         1.0         1.0       \n    98    102     5    5  1.0         1.0         0.95454545\n   101    104     5    5  1.0         1.0         1.0       \n   109    118     1    1  1.0         1.0         0.97452229\n   122    131     2    2  1.0         1.0         1.0       \n   127    130     2    2  1.0         1.0         1.0       \n\nsolutions with a jackard simularity after translation over 0.9\n--from-----to----tf---tt--translated--winnow------original---\n\n    47     55     1    1  1.0         1.0         1.0       \n    60     68     2    2  1.0         1.0         0.99127906\n    62     69     2    2  1.0         1.0         0.99178082\n    97    105     5    5  1.0         1.0         1.0       \n    98    102     5    5  1.0         1.0         0.95454545\n   101    104     5    5  1.0         1.0         1.0       \n   109    118     1    1  1.0         1.0         0.97452229\n   114    117     1    1  1.0         1.0         0.86363636\n   122    131     2    2  1.0         1.0         1.0       \n   127    130     2    2  1.0         1.0         1.0       \n\nsolutions with a winnow simularity after translation over 0.9\n--from-----to----tf---tt--translated--winnow------original---\n\n    47     55     1    1  1.0         1.0         1.0       \n    51     54     1    1  0.00970873  1.0         0.80232558\n    60     68     2    2  1.0         1.0         0.99127906\n    62     69     2    2  1.0         1.0         0.99178082\n    97    105     5    5  1.0         1.0         1.0       \n    98    102     5    5  1.0         1.0         0.95454545\n    99    106     5    5  0.4125      1.0         0.33236994\n   101    104     5    5  1.0         1.0         1.0       \n   109    118     1    1  1.0         1.0         0.97452229\n   112    119     1    1  0.9         1.0         0.85123966\n   114    117     1    1  1.0         1.0         0.86363636\n   122    131     2    2  1.0         1.0         1.0       \n   127    130     2    2  1.0         1.0         1.0       \n"
      }
     ],
     "prompt_number": 19
    },
    {
     "cell_type": "code",
     "collapsed": false,
     "input": "from difflib import Differ\nfrom pprint import pprint\n\ndef inspect(nb1, nb2):\n    print matrixstripped[nb1, nb2], matrixwinnow[nb1,nb2], matrixorg[nb1,nb2]\n    pprint (x[nb1][4].split('\\n'))\n    print '== program 1=====================================\\n'\n    pprint (x[nb2][4].split('\\n'))\n    print '== program 2 ====================================\\n'\n    myProgram1 = Code(x[nb1][4])\n    myProgram2 = Code(x[nb2][4])\n    \n    print myProgram1.getWorkingCopy()\n    print '== Working copy 1 ===============================\\n' \n    print myProgram2.getWorkingCopy()\n    print '== Working copy 2 ===============================\\n'\n\n    print myProgram1.getHashCopy()\n    print '== Hash copy 1 ===============================\\n' \n    print myProgram2.getHashCopy()\n    print '== Hash copy 2 ===============================\\n'\n    \n    print myProgram1.winnow2str(5)\n    print '== Winnow string 1 ==============================\\n'\n    print myProgram2.winnow2str(5)\n    print '== Winnow string 2 ==============================\\n'\n    \n    print differ(myProgram1.getWorkingCopy(),myProgram2.getWorkingCopy())\n    \n    \ninspect (51,54)\n#inspect(120,121)\n#inspect(13,25)\n\n#inspect(114,130)\n#inspect(114,115)\n#inspect(125,132)\n\n#inspect(51,54)\n#inspect(112,132)\n#inspect(5,11)\n#inspect(5,11)\n#inspect(48,58)\n#inspect(99,106)\n#inspect(114,117)\n#inspect(109,131)\n\n",
     "language": "python",
     "metadata": {},
     "outputs": [
      {
       "output_type": "stream",
       "stream": "stdout",
       "text": "0.00970873786408 1.0 0.802325581395\n['import sets',\n '',\n 'def jsim(s1, s2):',\n '    set1 = sets.ImmutableSet(s1)',\n '    set2 = sets.ImmutableSet(s2)',\n '    ',\n '    intersection_len = len(set1.intersection(set2))',\n '    union_len = len(set1.union(set2))',\n '    ',\n '    return float(intersection_len) / float(union_len)']\n== program 1=====================================\n\n['import scipy',\n 'import numpy',\n 'import sets',\n 'import random',\n 'import math',\n '',\n 'def jsim(s1, s2):',\n '    set1 = sets.ImmutableSet(s1)',\n '    set2 = sets.ImmutableSet(s2)',\n '    ',\n '    intersection_len = len(set1.intersection(set2))',\n '    union_len = len(set1.union(set2))',\n '    ',\n '    return float(intersection_len) / float(union_len)']\n== program 2 ====================================\n\nimport sets\ndef meth00000(name00000,name00001):\n    name00002=sets.ImmutableSet(name00000)\n    name00003=sets.ImmutableSet(name00001)\n    name00004=len(name00002.name00000(name00003))\n    name00005=len(name00002.name00000(name00003))\n    return float(name00004)/float(name00005)\n== Working copy 1 ===============================\n\nimport scipy\nimport numpy\nimport sets\nimport random\nimport math\ndef meth00000(name00000,name00001):\n    name00002=sets.ImmutableSet(name00000)\n    name00003=sets.ImmutableSet(name00001)\n    name00004=len(name00002.name00000(name00003))\n    name00005=len(name00002.name00000(name00003))\n    return float(name00004)/float(name00005)\n== Working copy 2 ===============================\n\nl0000001 a9e2 9347 178d\nl0000003 a9e2 4ed9 813c 84c4 2dfc c0cb 139a 9371 853a\nl0000004 9ce8 5152 43ec 178d 5058 898b 84c4 2dfc 9371\nl0000005 a9e2 c44d 43ec 178d 5058 898b 84c4 139a 9371\nl0000007 a9e2 1efa 43ec f5a8 84c4 5152 5058 2dfc 84c4 c44d 9371 9371\nl0000008 a9e2 d636 43ec f5a8 84c4 5152 5058 2dfc 84c4 c44d 9371 9371\nl0000010 a9e2 e70c 546a 84c4 1efa 9371 6666 546a 84c4 d636 9371\n\n== Hash copy 1 ===============================\n\nl0000001 a9e2 9347 10ea\nl0000002 a9e2 9347 2ea9\nl0000003 a9e2 9347 178d\nl0000004 a9e2 9347 7ddf\nl0000005 a9e2 9347 7e67\nl0000007 a9e2 4ed9 813c 84c4 2dfc c0cb 139a 9371 853a\nl0000008 9ce8 5152 43ec 178d 5058 898b 84c4 2dfc 9371\nl0000009 a9e2 c44d 43ec 178d 5058 898b 84c4 139a 9371\nl0000011 a9e2 1efa 43ec f5a8 84c4 5152 5058 2dfc 84c4 c44d 9371 9371\nl0000012 a9e2 d636 43ec f5a8 84c4 5152 5058 2dfc 84c4 c44d 9371 9371\nl0000014 a9e2 e70c 546a 84c4 1efa 9371 6666 546a 84c4 d636 9371\n\n== Hash copy 2 ===============================\n\n178d 2dfc 139a 43ec 178d 2dfc 178d 139a 1efa 43ec 2dfc 84c4 9371 43ec 2dfc 84c4 9371 546a 1efa 546a \n== Winnow string 1 ==============================\n\n10ea 2ea9 178d 7ddf 4ed9 2dfc 139a 43ec 178d 2dfc 178d 139a 1efa 43ec 2dfc 84c4 9371 43ec 2dfc 84c4 9371 546a 1efa 546a \n== Winnow string 2 ==============================\n\n--- \n+++ \n@@ -1,4 +1,8 @@\n+import scipy\n+import numpy\n import sets\n+import random\n+import math\n def meth00000(name00000,name00001):\n     name00002=sets.ImmutableSet(name00000)\n     name00003=sets.ImmutableSet(name00001)\n\n"
      }
     ],
     "prompt_number": 21
    },
    {
     "cell_type": "code",
     "collapsed": false,
     "input": "myProgram.getWinnow(10,noise=1)\n",
     "language": "python",
     "metadata": {},
     "outputs": [
      {
       "metadata": {},
       "output_type": "pyout",
       "prompt_number": 22,
       "text": "[['2dfc', 4], ['2ea9', 6], ['2dfc', 6], ['2dfc', 8], ['0fbd', 8]]"
      }
     ],
     "prompt_number": 22
    },
    {
     "cell_type": "code",
     "collapsed": false,
     "input": "import numpy as numpy\ndef meth00000(name00000,name00001):\n    name00002=len(name00000)\n    name00003=len(name00000[0])\n    name00004=numpy.random.randn(len(name00000),name00001)\n    name00005=numpy.array([])\n    for name00006 in range(name00001):\n        name00005=numpy.concatenate((name00005,numpy.sign(numpy.sum(numpy.transpose(numpy.tile(name00004[:,name00006],(name00003,1)))*name00000,axis=0))))\n    return numpy.reshape(name00005,(name00001,name00003))\n\ndocs = np.array([[1,-2,3],[-3,2,-1],[-2,3,1],[3,-3,-3]])\nsketches = meth00000(docs,10000)",
     "language": "python",
     "metadata": {},
     "outputs": [],
     "prompt_number": 23
    },
    {
     "cell_type": "code",
     "collapsed": false,
     "input": "sketches",
     "language": "python",
     "metadata": {},
     "outputs": [
      {
       "metadata": {},
       "output_type": "pyout",
       "prompt_number": 24,
       "text": "array([[ 1., -1.,  1.],\n       [ 1., -1.,  1.],\n       [-1.,  1.,  1.],\n       ..., \n       [ 1., -1.,  1.],\n       [ 1., -1., -1.],\n       [ 1., -1., -1.]])"
      }
     ],
     "prompt_number": 24
    },
    {
     "cell_type": "code",
     "collapsed": false,
     "input": "from Code import Code\nimport Scope\nScope.clearScopes()\nmyProgram1 = Code(x[96][4])\nmyProgram2 = Code(x[106][4])\nprint myProgram2.getWorkingCopy()\nprint myProgram.getWorkingCopy()",
     "language": "python",
     "metadata": {},
     "outputs": [
      {
       "output_type": "stream",
       "stream": "stdout",
       "text": "def meth00000(name00000,name00001):\n    name00002=0\n    for name00003 in range(0,len(name00000)):\n        if(name00000[name00003]==name00001[name00003]):\n            name00002+=1\n    return float(name00002)/float(len(name00000))\nimport numpy as numpy\ndef meth00000(name00000):\n    index=numpy.random.randint(len(name00000))\n    return name00000[index]\n"
      }
     ],
     "prompt_number": 25
    },
    {
     "cell_type": "code",
     "collapsed": false,
     "input": "len(Scope.Scope.scopes)",
     "language": "python",
     "metadata": {},
     "outputs": [
      {
       "metadata": {},
       "output_type": "pyout",
       "prompt_number": 28,
       "text": "0"
      }
     ],
     "prompt_number": 28
    },
    {
     "cell_type": "code",
     "collapsed": false,
     "input": "myProgram1 = ''",
     "language": "python",
     "metadata": {},
     "outputs": [],
     "prompt_number": 27
    },
    {
     "cell_type": "code",
     "collapsed": false,
     "input": "",
     "language": "python",
     "metadata": {},
     "outputs": []
    }
   ],
   "metadata": {}
  }
 ]
}